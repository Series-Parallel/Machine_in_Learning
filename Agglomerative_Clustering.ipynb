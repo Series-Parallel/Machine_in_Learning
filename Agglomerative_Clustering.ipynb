{
  "nbformat": 4,
  "nbformat_minor": 0,
  "metadata": {
    "colab": {
      "provenance": [],
      "authorship_tag": "ABX9TyM8iEEZF31jNFGwVj5u21N3",
      "include_colab_link": true
    },
    "kernelspec": {
      "name": "python3",
      "display_name": "Python 3"
    },
    "language_info": {
      "name": "python"
    }
  },
  "cells": [
    {
      "cell_type": "markdown",
      "metadata": {
        "id": "view-in-github",
        "colab_type": "text"
      },
      "source": [
        "<a href=\"https://colab.research.google.com/github/Series-Parallel/Machine_in_Learning/blob/main/Agglomerative_Clustering.ipynb\" target=\"_parent\"><img src=\"https://colab.research.google.com/assets/colab-badge.svg\" alt=\"Open In Colab\"/></a>"
      ]
    },
    {
      "cell_type": "code",
      "execution_count": 21,
      "metadata": {
        "id": "2q8pLQJWiZvb"
      },
      "outputs": [],
      "source": [
        "import numpy as np"
      ]
    },
    {
      "cell_type": "code",
      "source": [
        "def euclidean_distance(p1, p2):\n",
        "    return np.linalg.norm(np.array(p1) - np.array(p2))"
      ],
      "metadata": {
        "id": "oVxjtrWzpgBL"
      },
      "execution_count": 22,
      "outputs": []
    },
    {
      "cell_type": "code",
      "source": [
        "# Find the two closest clusters\n",
        "def find_closest_clusters(clusters, distance_matrix):\n",
        "    min_dist = float('inf')  # Initialize minimum distance as infinity\n",
        "    cluster_pair = None  # Store the pair of clusters to merge\n",
        "\n",
        "    for c1 in clusters:\n",
        "        for c2 in clusters:\n",
        "            if c1 != c2:  # Ensure we are not comparing the same cluster\n",
        "                dist = min(distance_matrix[p1][p2] for p1 in c1 for p2 in c2)  # Single linkage\n",
        "                if dist < min_dist:\n",
        "                    min_dist = dist\n",
        "                    cluster_pair = (c1, c2)  # Update closest pair\n",
        "\n",
        "    return cluster_pair\n"
      ],
      "metadata": {
        "id": "wcL13I5EpjOD"
      },
      "execution_count": 23,
      "outputs": []
    },
    {
      "cell_type": "code",
      "source": [
        "def agglomerative_clustering(data, num_clusters):\n",
        "    # Step 1: Initialize each point as its own cluster\n",
        "    clusters = {frozenset([tuple(point)]) for point in data}\n",
        "    # Compute initial distance matrix using tuples as keys instead of numpy arrays\n",
        "    distance_matrix = {tuple(p1): {tuple(p2): euclidean_distance(p1, p2) for p2 in data} for p1 in data}\n",
        "    while len(clusters) > num_clusters:\n",
        "        c1, c2 = find_closest_clusters(clusters, distance_matrix)\n",
        "        new_cluster = c1 | c2  # Union of sets\n",
        "        clusters.remove(c1)\n",
        "        clusters.remove(c2)\n",
        "        clusters.add(new_cluster)\n",
        "    return clusters"
      ],
      "metadata": {
        "id": "VTX6hqO6pk5z"
      },
      "execution_count": 27,
      "outputs": []
    },
    {
      "cell_type": "code",
      "source": [
        "# Example Usage\n",
        "data = np.array([[1, 2], [2, 3], [3, 4], [8, 8], [9, 9]])\n",
        "clusters = agglomerative_clustering(data, num_clusters=2)\n",
        "\n",
        "# Display results\n",
        "for i, cluster in enumerate(clusters):\n",
        "    print(f\"Cluster {i+1}: {list(cluster)}\")\n"
      ],
      "metadata": {
        "colab": {
          "base_uri": "https://localhost:8080/"
        },
        "id": "s8jGO2V6pmbE",
        "outputId": "210f23b2-8688-46ba-b922-fbab7abb840b"
      },
      "execution_count": 28,
      "outputs": [
        {
          "output_type": "stream",
          "name": "stdout",
          "text": [
            "Cluster 1: [(8, 8), (9, 9)]\n",
            "Cluster 2: [(2, 3), (1, 2), (3, 4)]\n"
          ]
        }
      ]
    }
  ]
}